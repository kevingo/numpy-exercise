{
 "cells": [
  {
   "cell_type": "code",
   "execution_count": 1,
   "metadata": {
    "ExecuteTime": {
     "end_time": "2019-02-09T15:46:28.073320Z",
     "start_time": "2019-02-09T15:46:27.686262Z"
    }
   },
   "outputs": [],
   "source": [
    "# 匯入 numpy\n",
    "import numpy as np"
   ]
  },
  {
   "cell_type": "code",
   "execution_count": 2,
   "metadata": {
    "ExecuteTime": {
     "end_time": "2019-02-09T15:46:29.180422Z",
     "start_time": "2019-02-09T15:46:29.174473Z"
    }
   },
   "outputs": [
    {
     "name": "stdout",
     "output_type": "stream",
     "text": [
      "1.15.4\n"
     ]
    }
   ],
   "source": [
    "# 顯示 numpy 版本\n",
    "print(np.__version__)"
   ]
  },
  {
   "cell_type": "code",
   "execution_count": 3,
   "metadata": {
    "ExecuteTime": {
     "end_time": "2019-02-09T15:46:31.612099Z",
     "start_time": "2019-02-09T15:46:31.599076Z"
    }
   },
   "outputs": [
    {
     "name": "stdout",
     "output_type": "stream",
     "text": [
      "[2 3 4]\n",
      "<class 'numpy.ndarray'>\n",
      "(3,)\n",
      "1\n",
      "int64\n",
      "3\n"
     ]
    }
   ],
   "source": [
    "# 使用 numpy array 函式建立一個 numpy nd-array\n",
    "a = np.array([2,3,4])\n",
    "print(a)\n",
    "print(type(a))      ## numpy.ndarray\n",
    "print(a.shape)      ## 顯示 array 的 dimension，是一個 tuple，分別表示各個維度的 size\n",
    "print(len(a.shape)) ## shape 的 size，就是代表 array 的 axes\n",
    "print(a.dtype)      ## array 的型別\n",
    "print(a.size)       ## array 總共有多少元素，等同於 shape 所有 item 的乘積"
   ]
  },
  {
   "cell_type": "code",
   "execution_count": 4,
   "metadata": {
    "ExecuteTime": {
     "end_time": "2019-02-09T15:46:32.684143Z",
     "start_time": "2019-02-09T15:46:32.666770Z"
    }
   },
   "outputs": [
    {
     "name": "stdout",
     "output_type": "stream",
     "text": [
      "1d array: [0. 0. 0. 0. 0.]\n",
      "2d array: [[0. 0.]\n",
      " [0. 0.]\n",
      " [0. 0.]\n",
      " [0. 0.]\n",
      " [0. 0.]]\n",
      "2d array: [[1 2 3]\n",
      " [4 5 6]]\n"
     ]
    }
   ],
   "source": [
    "# 建立 1d-zero numpy array\n",
    "a1 = np.zeros((5,))\n",
    "print('1d array:', a1)\n",
    "\n",
    "# 建立 2d-zero numpy array\n",
    "a2 = np.zeros((5,2))\n",
    "print('2d array:', a2)\n",
    "\n",
    "# 建立 2d-array\n",
    "a3 = np.array([(1,2,3), (4,5,6)])\n",
    "print('2d array:', a3)\n",
    "\n",
    "# 建立 3d-array\n",
    "a4 = np.zeros((2,3,4))\n"
   ]
  },
  {
   "cell_type": "code",
   "execution_count": 5,
   "metadata": {
    "ExecuteTime": {
     "end_time": "2019-02-09T15:46:35.225225Z",
     "start_time": "2019-02-09T15:46:35.215269Z"
    }
   },
   "outputs": [
    {
     "name": "stdout",
     "output_type": "stream",
     "text": [
      "[[0. 0. 0.]\n",
      " [0. 0. 0.]]\n",
      "[[0. 0. 0.]\n",
      " [0. 0. 0.]]\n",
      "[[1. 0. 0.]\n",
      " [0. 1. 0.]\n",
      " [0. 0. 1.]]\n"
     ]
    }
   ],
   "source": [
    "# 建立一個 2x3 的矩陣 (透過 zeros 指定)\n",
    "a = np.zeros((2, 3))\n",
    "print(a)\n",
    "\n",
    "# 使用 reshape\n",
    "b = np.zeros((6,)).reshape(2, 3)\n",
    "print(b)\n",
    "\n",
    "# 建立一個對角矩陣\n",
    "Z = np.eye(3)\n",
    "print(Z)"
   ]
  },
  {
   "cell_type": "code",
   "execution_count": 6,
   "metadata": {
    "ExecuteTime": {
     "end_time": "2019-02-09T15:46:36.064941Z",
     "start_time": "2019-02-09T15:46:36.050701Z"
    }
   },
   "outputs": [
    {
     "name": "stdout",
     "output_type": "stream",
     "text": [
      "(3, 4)\n",
      "8\n",
      "[4 3]\n",
      "[[False False False False]\n",
      " [False False  True  True]\n",
      " [False  True  True  True]]\n",
      "[ 6  8  6  9 12]\n"
     ]
    }
   ],
   "source": [
    "# Numpy indexing\n",
    "arr = np.array([\n",
    "    [1, 2, 3, 4],\n",
    "    [2, 4, 6, 8],\n",
    "    [3, 6, 9, 12]\n",
    "])\n",
    "\n",
    "print(arr.shape)\n",
    "\n",
    "# 取出某個元素\n",
    "print(arr[1, 3])\n",
    "\n",
    "# 取出多個元素 (第一個維度取出 0, 2，第二個維度取出 3, 0)\n",
    "print(arr[[0, 2], [3, 0]])\n",
    "\n",
    "# boolean indexing\n",
    "mask = arr > 5\n",
    "print(mask)\n",
    "print(arr[mask])"
   ]
  },
  {
   "cell_type": "code",
   "execution_count": 7,
   "metadata": {
    "ExecuteTime": {
     "end_time": "2019-02-09T15:46:36.794401Z",
     "start_time": "2019-02-09T15:46:36.783257Z"
    }
   },
   "outputs": [
    {
     "name": "stdout",
     "output_type": "stream",
     "text": [
      "[0 2 4 6]\n",
      "[2 3]\n",
      "[5 4 3 2 1]\n",
      "[2 3 4 5 6]\n"
     ]
    }
   ],
   "source": [
    "# Numpy Slicing\n",
    "arr = np.array([0,1,2,3,4,5,6])\n",
    "\n",
    "# Slicing，用 obj[start:end:step] 表示。start <= elements < end，step =/= 0\n",
    "print(arr[0:7:2])\n",
    "\n",
    "# 負的 start 和 end 代表 n - start 和 n - end (n 為 element 數量)\n",
    "print(arr[-5:-3:1]) # 取 (7-5) ~ (7-3) 兩個元素\n",
    "\n",
    "# 負的 step 代表反序\n",
    "print(arr[5:0:-1])\n",
    "\n",
    "# 取 index=2 之後的元素\n",
    "print(arr[2:])"
   ]
  },
  {
   "cell_type": "code",
   "execution_count": null,
   "metadata": {},
   "outputs": [],
   "source": []
  }
 ],
 "metadata": {
  "anaconda-cloud": {},
  "kernelspec": {
   "display_name": "Python 3",
   "language": "python",
   "name": "python3"
  },
  "language_info": {
   "codemirror_mode": {
    "name": "ipython",
    "version": 3
   },
   "file_extension": ".py",
   "mimetype": "text/x-python",
   "name": "python",
   "nbconvert_exporter": "python",
   "pygments_lexer": "ipython3",
   "version": "3.6.7"
  }
 },
 "nbformat": 4,
 "nbformat_minor": 1
}
